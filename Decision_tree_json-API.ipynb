{
  "nbformat": 4,
  "nbformat_minor": 0,
  "metadata": {
    "colab": {
      "provenance": []
    },
    "kernelspec": {
      "name": "python3",
      "display_name": "Python 3"
    },
    "language_info": {
      "name": "python"
    }
  },
  "cells": [
    {
      "cell_type": "code",
      "execution_count": 1,
      "metadata": {
        "id": "pgKUsjtInhKL"
      },
      "outputs": [],
      "source": [
        "from sklearn import tree\n",
        "from sklearn.utils import shuffle\n",
        "import urllib.request, json\n",
        "import requests\n",
        "from sklearn.metrics import accuracy_score"
      ]
    },
    {
      "cell_type": "code",
      "source": [
        "with urllib.request.urlopen(\"https://monitoring-server95.000webhostapp.com/data.php\") as url:\n",
        "    data = json.load(url)\n",
        "print(json.dumps(data, indent=4))"
      ],
      "metadata": {
        "colab": {
          "base_uri": "https://localhost:8080/"
        },
        "id": "KvaqbznTpIps",
        "outputId": "4b73e8d6-ff07-42e6-81fc-9bb775019839"
      },
      "execution_count": 10,
      "outputs": [
        {
          "output_type": "stream",
          "name": "stdout",
          "text": [
            "[\n",
            "    {\n",
            "        \"id\": \"1\",\n",
            "        \"temperature\": \"30.1\",\n",
            "        \"humidity\": \"90\",\n",
            "        \"ldr\": \"123\",\n",
            "        \"status\": \"nyaman\"\n",
            "    },\n",
            "    {\n",
            "        \"id\": \"2\",\n",
            "        \"temperature\": \"28.1\",\n",
            "        \"humidity\": \"90\",\n",
            "        \"ldr\": \"120\",\n",
            "        \"status\": \"nyaman\"\n",
            "    },\n",
            "    {\n",
            "        \"id\": \"3\",\n",
            "        \"temperature\": \"34.1\",\n",
            "        \"humidity\": \"90\",\n",
            "        \"ldr\": \"120\",\n",
            "        \"status\": \"tidak nyaman\"\n",
            "    },\n",
            "    {\n",
            "        \"id\": \"4\",\n",
            "        \"temperature\": \"35.2\",\n",
            "        \"humidity\": \"80\",\n",
            "        \"ldr\": \"50\",\n",
            "        \"status\": \"tidak nyaman\"\n",
            "    },\n",
            "    {\n",
            "        \"id\": \"5\",\n",
            "        \"temperature\": \"20.2\",\n",
            "        \"humidity\": \"60.3\",\n",
            "        \"ldr\": \"400\",\n",
            "        \"status\": \"tidak nyaman\"\n",
            "    },\n",
            "    {\n",
            "        \"id\": \"6\",\n",
            "        \"temperature\": \"28.9\",\n",
            "        \"humidity\": \"80.1\",\n",
            "        \"ldr\": \"150\",\n",
            "        \"status\": \"nyaman\"\n",
            "    },\n",
            "    {\n",
            "        \"id\": \"7\",\n",
            "        \"temperature\": \"40.1\",\n",
            "        \"humidity\": \"80\",\n",
            "        \"ldr\": \"30\",\n",
            "        \"status\": \"tidak nyaman\"\n",
            "    },\n",
            "    {\n",
            "        \"id\": \"8\",\n",
            "        \"temperature\": \"31.2\",\n",
            "        \"humidity\": \"91\",\n",
            "        \"ldr\": \"122\",\n",
            "        \"status\": \"nyaman\"\n",
            "    },\n",
            "    {\n",
            "        \"id\": \"9\",\n",
            "        \"temperature\": \"31.2\",\n",
            "        \"humidity\": \"91\",\n",
            "        \"ldr\": \"122\",\n",
            "        \"status\": \"nyaman\"\n",
            "    },\n",
            "    {\n",
            "        \"id\": \"10\",\n",
            "        \"temperature\": \"31.2\",\n",
            "        \"humidity\": \"91\",\n",
            "        \"ldr\": \"122\",\n",
            "        \"status\": \"nyaman\"\n",
            "    },\n",
            "    {\n",
            "        \"id\": \"11\",\n",
            "        \"temperature\": \"29.1\",\n",
            "        \"humidity\": \"80\",\n",
            "        \"ldr\": \"121\",\n",
            "        \"status\": \"nyaman\"\n",
            "    },\n",
            "    {\n",
            "        \"id\": \"12\",\n",
            "        \"temperature\": \"20.1\",\n",
            "        \"humidity\": \"92\",\n",
            "        \"ldr\": \"130\",\n",
            "        \"status\": \"tidak nyaman\"\n",
            "    },\n",
            "    {\n",
            "        \"id\": \"13\",\n",
            "        \"temperature\": \"38.1\",\n",
            "        \"humidity\": \"50\",\n",
            "        \"ldr\": \"50\",\n",
            "        \"status\": \"tidak nyaman\"\n",
            "    },\n",
            "    {\n",
            "        \"id\": \"14\",\n",
            "        \"temperature\": \"35.9\",\n",
            "        \"humidity\": \"60\",\n",
            "        \"ldr\": \"100\",\n",
            "        \"status\": \"tidak nyaman\"\n",
            "    },\n",
            "    {\n",
            "        \"id\": \"15\",\n",
            "        \"temperature\": \"20.9\",\n",
            "        \"humidity\": \"95.1\",\n",
            "        \"ldr\": \"20\",\n",
            "        \"status\": \"tidak nyaman\"\n",
            "    },\n",
            "    {\n",
            "        \"id\": \"16\",\n",
            "        \"temperature\": \"28.9\",\n",
            "        \"humidity\": \"80.1\",\n",
            "        \"ldr\": \"120\",\n",
            "        \"status\": \"nyaman\"\n",
            "    },\n",
            "    {\n",
            "        \"id\": \"17\",\n",
            "        \"temperature\": \"29.4\",\n",
            "        \"humidity\": \"85.1\",\n",
            "        \"ldr\": \"121\",\n",
            "        \"status\": \"nyaman\"\n",
            "    },\n",
            "    {\n",
            "        \"id\": \"18\",\n",
            "        \"temperature\": \"30.1\",\n",
            "        \"humidity\": \"86.1\",\n",
            "        \"ldr\": \"120\",\n",
            "        \"status\": \"nyaman\"\n",
            "    },\n",
            "    {\n",
            "        \"id\": \"19\",\n",
            "        \"temperature\": \"30.1\",\n",
            "        \"humidity\": \"86.1\",\n",
            "        \"ldr\": \"120\",\n",
            "        \"status\": \"nyaman\"\n",
            "    },\n",
            "    {\n",
            "        \"id\": \"20\",\n",
            "        \"temperature\": \"28.1\",\n",
            "        \"humidity\": \"90\",\n",
            "        \"ldr\": \"110\",\n",
            "        \"status\": \"nyaman\"\n",
            "    },\n",
            "    {\n",
            "        \"id\": \"21\",\n",
            "        \"temperature\": \"29.4\",\n",
            "        \"humidity\": \"85.1\",\n",
            "        \"ldr\": \"121\",\n",
            "        \"status\": \"nyaman\"\n",
            "    },\n",
            "    {\n",
            "        \"id\": \"22\",\n",
            "        \"temperature\": \"29.4\",\n",
            "        \"humidity\": \"85.1\",\n",
            "        \"ldr\": \"121\",\n",
            "        \"status\": \"nyaman\"\n",
            "    },\n",
            "    {\n",
            "        \"id\": \"23\",\n",
            "        \"temperature\": \"29.4\",\n",
            "        \"humidity\": \"85.1\",\n",
            "        \"ldr\": \"121\",\n",
            "        \"status\": \"nyaman\"\n",
            "    },\n",
            "    {\n",
            "        \"id\": \"24\",\n",
            "        \"temperature\": \"29.4\",\n",
            "        \"humidity\": \"85.1\",\n",
            "        \"ldr\": \"121\",\n",
            "        \"status\": \"nyaman\"\n",
            "    },\n",
            "    {\n",
            "        \"id\": \"25\",\n",
            "        \"temperature\": \"29.4\",\n",
            "        \"humidity\": \"85.1\",\n",
            "        \"ldr\": \"121\",\n",
            "        \"status\": \"nyaman\"\n",
            "    },\n",
            "    {\n",
            "        \"id\": \"26\",\n",
            "        \"temperature\": \"30.1\",\n",
            "        \"humidity\": \"50\",\n",
            "        \"ldr\": \"123\",\n",
            "        \"status\": \"nyaman\"\n",
            "    }\n",
            "]\n"
          ]
        }
      ]
    },
    {
      "cell_type": "code",
      "source": [
        "#membuka data set\n",
        "\n",
        "# Inisialisasi array kosong\n",
        "nilai_array = []\n",
        "\n",
        "# Memasukkan nilai-nilai dari data ke dalam array\n",
        "for item in data:\n",
        "    nilai_array.append(list(item.values()))\n",
        "\n",
        "# Contoh cara mengakses nilai dalam array\n",
        "for item in nilai_array:\n",
        "    print(item)"
      ],
      "metadata": {
        "colab": {
          "base_uri": "https://localhost:8080/"
        },
        "id": "qh3ue1bNntAl",
        "outputId": "fd5c59b1-0003-4085-85b4-eb50aa0ef218"
      },
      "execution_count": 3,
      "outputs": [
        {
          "output_type": "stream",
          "name": "stdout",
          "text": [
            "['1', '30.1', '90', '123', 'nyaman']\n",
            "['2', '28.1', '90', '120', 'nyaman']\n",
            "['3', '34.1', '90', '120', 'tidak nyaman']\n",
            "['4', '35.2', '80', '50', 'tidak nyaman']\n",
            "['5', '20.2', '60.3', '400', 'tidak nyaman']\n",
            "['6', '28.9', '80.1', '150', 'nyaman']\n",
            "['7', '40.1', '80', '30', 'tidak nyaman']\n",
            "['8', '31.2', '91', '122', 'nyaman']\n",
            "['9', '31.2', '91', '122', 'nyaman']\n",
            "['10', '31.2', '91', '122', 'nyaman']\n",
            "['11', '29.1', '80', '121', 'nyaman']\n",
            "['12', '20.1', '92', '130', 'tidak nyaman']\n",
            "['13', '38.1', '50', '50', 'tidak nyaman']\n",
            "['14', '35.9', '60', '100', 'tidak nyaman']\n",
            "['15', '20.9', '95.1', '20', 'tidak nyaman']\n",
            "['16', '28.9', '80.1', '120', 'nyaman']\n",
            "['17', '29.4', '85.1', '121', 'nyaman']\n",
            "['18', '30.1', '86.1', '120', 'nyaman']\n",
            "['19', '30.1', '86.1', '120', 'nyaman']\n",
            "['20', '28.1', '90', '110', 'nyaman']\n",
            "['21', '29.4', '85.1', '121', 'nyaman']\n",
            "['22', '29.4', '85.1', '121', 'nyaman']\n",
            "['23', '29.4', '85.1', '121', 'nyaman']\n",
            "['24', '29.4', '85.1', '121', 'nyaman']\n",
            "['25', '29.4', '85.1', '121', 'nyaman']\n"
          ]
        }
      ]
    },
    {
      "cell_type": "code",
      "source": [
        "#acak data set\n",
        "\n",
        "ds_acak = shuffle(nilai_array,random_state=2)\n",
        "print(ds_acak)"
      ],
      "metadata": {
        "colab": {
          "base_uri": "https://localhost:8080/"
        },
        "id": "4EczLCVGn-qg",
        "outputId": "2643ca2f-ac15-4954-8afb-2d6e92fcac08"
      },
      "execution_count": 4,
      "outputs": [
        {
          "output_type": "stream",
          "name": "stdout",
          "text": [
            "[['15', '20.9', '95.1', '20', 'tidak nyaman'], ['1', '30.1', '90', '123', 'nyaman'], ['18', '30.1', '86.1', '120', 'nyaman'], ['7', '40.1', '80', '30', 'tidak nyaman'], ['24', '29.4', '85.1', '121', 'nyaman'], ['10', '31.2', '91', '122', 'nyaman'], ['4', '35.2', '80', '50', 'tidak nyaman'], ['17', '29.4', '85.1', '121', 'nyaman'], ['13', '38.1', '50', '50', 'tidak nyaman'], ['23', '29.4', '85.1', '121', 'nyaman'], ['5', '20.2', '60.3', '400', 'tidak nyaman'], ['11', '29.1', '80', '121', 'nyaman'], ['6', '28.9', '80.1', '150', 'nyaman'], ['20', '28.1', '90', '110', 'nyaman'], ['2', '28.1', '90', '120', 'nyaman'], ['3', '34.1', '90', '120', 'tidak nyaman'], ['8', '31.2', '91', '122', 'nyaman'], ['22', '29.4', '85.1', '121', 'nyaman'], ['21', '29.4', '85.1', '121', 'nyaman'], ['19', '30.1', '86.1', '120', 'nyaman'], ['12', '20.1', '92', '130', 'tidak nyaman'], ['25', '29.4', '85.1', '121', 'nyaman'], ['14', '35.9', '60', '100', 'tidak nyaman'], ['16', '28.9', '80.1', '120', 'nyaman'], ['9', '31.2', '91', '122', 'nyaman']]\n"
          ]
        }
      ]
    },
    {
      "cell_type": "code",
      "source": [
        "#pemishan fitur dan label\n",
        "X = [] #fitur\n",
        "Y = [] #label\n",
        "for row in ds_acak:\n",
        "  X.append([row[1], row[2], row[3]])\n",
        "  Y.append(row[4])\n",
        "print(X)\n",
        "print(Y)"
      ],
      "metadata": {
        "colab": {
          "base_uri": "https://localhost:8080/"
        },
        "id": "RKu3sYLdoI-x",
        "outputId": "1b4fa8d7-e41a-4519-87bd-e811ce08a5d0"
      },
      "execution_count": 5,
      "outputs": [
        {
          "output_type": "stream",
          "name": "stdout",
          "text": [
            "[['20.9', '95.1', '20'], ['30.1', '90', '123'], ['30.1', '86.1', '120'], ['40.1', '80', '30'], ['29.4', '85.1', '121'], ['31.2', '91', '122'], ['35.2', '80', '50'], ['29.4', '85.1', '121'], ['38.1', '50', '50'], ['29.4', '85.1', '121'], ['20.2', '60.3', '400'], ['29.1', '80', '121'], ['28.9', '80.1', '150'], ['28.1', '90', '110'], ['28.1', '90', '120'], ['34.1', '90', '120'], ['31.2', '91', '122'], ['29.4', '85.1', '121'], ['29.4', '85.1', '121'], ['30.1', '86.1', '120'], ['20.1', '92', '130'], ['29.4', '85.1', '121'], ['35.9', '60', '100'], ['28.9', '80.1', '120'], ['31.2', '91', '122']]\n",
            "['tidak nyaman', 'nyaman', 'nyaman', 'tidak nyaman', 'nyaman', 'nyaman', 'tidak nyaman', 'nyaman', 'tidak nyaman', 'nyaman', 'tidak nyaman', 'nyaman', 'nyaman', 'nyaman', 'nyaman', 'tidak nyaman', 'nyaman', 'nyaman', 'nyaman', 'nyaman', 'tidak nyaman', 'nyaman', 'tidak nyaman', 'nyaman', 'nyaman']\n"
          ]
        }
      ]
    },
    {
      "cell_type": "code",
      "source": [
        "#melakukan training\n",
        "clf = tree.DecisionTreeClassifier() #panggil metode\n",
        "clf = clf.fit(X,Y) #lakukan training"
      ],
      "metadata": {
        "id": "Yy0VE-kXoQDH"
      },
      "execution_count": 6,
      "outputs": []
    },
    {
      "cell_type": "code",
      "source": [
        "temperature = float(input(\"Masukkan nilai temperature: \"))\n",
        "kelembababan = float(input(\"Masukkan nilai kelembaban: \"))\n",
        "intensitas_cahaya= float(input(\"Masukkan intensitas cahaya: \"))\n",
        "\n",
        "data_baru = [temperature, kelembababan, intensitas_cahaya]\n",
        "klasifikasi = clf.predict([data_baru])\n",
        "\n",
        "print('data baru :', data_baru)\n",
        "print('hasil : ', klasifikasi)"
      ],
      "metadata": {
        "colab": {
          "base_uri": "https://localhost:8080/"
        },
        "id": "wKf7i2QAEiq0",
        "outputId": "c5e0f295-d85c-4f25-aef9-71542c59897e"
      },
      "execution_count": 7,
      "outputs": [
        {
          "output_type": "stream",
          "name": "stdout",
          "text": [
            "Masukkan nilai temperature: 30.1\n",
            "Masukkan nilai kelembaban: 50\n",
            "Masukkan intensitas cahaya: 123\n",
            "data baru : [30.1, 50.0, 123.0]\n",
            "hasil :  ['nyaman']\n"
          ]
        }
      ]
    },
    {
      "cell_type": "code",
      "source": [
        "data = {\n",
        "    'temperature': data_baru[0],\n",
        "    'humidity': data_baru[1],\n",
        "    'ldr': data_baru[2],\n",
        "    'status': klasifikasi[0]\n",
        "}\n",
        "\n",
        "# URL endpoint API\n",
        "url = \"https://monitoring-server95.000webhostapp.com/insert.php\"  # Ganti dengan URL endpoint API yang sesuai\n",
        "\n",
        "# Menggabungkan data ke dalam URL\n",
        "url += '?' + '&'.join([f\"{key}={value}\" for key, value in data.items()])\n",
        "\n",
        "# Mengirim permintaan HTTP GET\n",
        "response = requests.get(url)\n",
        "\n",
        "# Memeriksa status respons dari API\n",
        "if response.status_code == 200:\n",
        "    print(\"Data berhasil disimpan\")\n",
        "else:\n",
        "    print(\"Gagal memasukkan data ke dalam API. Kode status:\", response.status_code)\n",
        "    print(\"Respon:\", response.text)"
      ],
      "metadata": {
        "id": "1F9TssLq4McN",
        "colab": {
          "base_uri": "https://localhost:8080/"
        },
        "outputId": "f26584ac-25cc-43eb-8fa7-f6b8cd1864e9"
      },
      "execution_count": 8,
      "outputs": [
        {
          "output_type": "stream",
          "name": "stdout",
          "text": [
            "Data berhasil disimpan\n"
          ]
        }
      ]
    }
  ]
}